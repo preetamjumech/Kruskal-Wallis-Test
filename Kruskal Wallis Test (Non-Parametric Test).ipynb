{
 "cells": [
  {
   "cell_type": "code",
   "execution_count": 1,
   "id": "3281b3cd",
   "metadata": {},
   "outputs": [],
   "source": [
    "import pandas as pd"
   ]
  },
  {
   "cell_type": "code",
   "execution_count": 2,
   "id": "283d2e2b",
   "metadata": {},
   "outputs": [
    {
     "data": {
      "text/html": [
       "<div>\n",
       "<style scoped>\n",
       "    .dataframe tbody tr th:only-of-type {\n",
       "        vertical-align: middle;\n",
       "    }\n",
       "\n",
       "    .dataframe tbody tr th {\n",
       "        vertical-align: top;\n",
       "    }\n",
       "\n",
       "    .dataframe thead th {\n",
       "        text-align: right;\n",
       "    }\n",
       "</style>\n",
       "<table border=\"1\" class=\"dataframe\">\n",
       "  <thead>\n",
       "    <tr style=\"text-align: right;\">\n",
       "      <th></th>\n",
       "      <th>RespNr</th>\n",
       "      <th>Location</th>\n",
       "      <th>OAA_ObjCourse</th>\n",
       "      <th>OAA_ObjClass</th>\n",
       "      <th>OAA_CourseExec</th>\n",
       "      <th>OAA_RelActObj</th>\n",
       "      <th>OAA_RelActExa</th>\n",
       "      <th>OAA_RelObjExa</th>\n",
       "      <th>OAA_LearProcAct</th>\n",
       "      <th>OAA_LearProcPrep</th>\n",
       "      <th>...</th>\n",
       "      <th>Mix_IntDiscus</th>\n",
       "      <th>Mix_IntPrep</th>\n",
       "      <th>Mix_IntExcel</th>\n",
       "      <th>Over_Grade</th>\n",
       "      <th>Gen_Gender</th>\n",
       "      <th>Gen_Age</th>\n",
       "      <th>Gen_SecSchool</th>\n",
       "      <th>Gen_Classes</th>\n",
       "      <th>Gen_NumberSubj</th>\n",
       "      <th>Gen_Time</th>\n",
       "    </tr>\n",
       "  </thead>\n",
       "  <tbody>\n",
       "    <tr>\n",
       "      <th>0</th>\n",
       "      <td>1.0</td>\n",
       "      <td>Rotterdam</td>\n",
       "      <td>Fully Disagree</td>\n",
       "      <td>Fully Disagree</td>\n",
       "      <td>Fully Disagree</td>\n",
       "      <td>Disagree</td>\n",
       "      <td>Fully Disagree</td>\n",
       "      <td>Fully Disagree</td>\n",
       "      <td>Fully Disagree</td>\n",
       "      <td>Fully Disagree</td>\n",
       "      <td>...</td>\n",
       "      <td>Not at all</td>\n",
       "      <td>not so much</td>\n",
       "      <td>not so much</td>\n",
       "      <td>20.0</td>\n",
       "      <td>Female</td>\n",
       "      <td>22.0</td>\n",
       "      <td>NaN</td>\n",
       "      <td>NaN</td>\n",
       "      <td>Fully agree</td>\n",
       "      <td>20 &lt; 30</td>\n",
       "    </tr>\n",
       "    <tr>\n",
       "      <th>1</th>\n",
       "      <td>2.0</td>\n",
       "      <td>Haarlem</td>\n",
       "      <td>Disagree</td>\n",
       "      <td>Disagree</td>\n",
       "      <td>NaN</td>\n",
       "      <td>Fully Disagree</td>\n",
       "      <td>Neither disagree nor agree</td>\n",
       "      <td>Agree</td>\n",
       "      <td>Disagree</td>\n",
       "      <td>Neither disagree nor agree</td>\n",
       "      <td>...</td>\n",
       "      <td>not so much</td>\n",
       "      <td>somewhat</td>\n",
       "      <td>somewhat</td>\n",
       "      <td>50.0</td>\n",
       "      <td>Male</td>\n",
       "      <td>NaN</td>\n",
       "      <td>The Netherlands</td>\n",
       "      <td>6.0</td>\n",
       "      <td>Disagree</td>\n",
       "      <td>10 &lt; 20</td>\n",
       "    </tr>\n",
       "    <tr>\n",
       "      <th>2</th>\n",
       "      <td>3.0</td>\n",
       "      <td>Diemen</td>\n",
       "      <td>Fully agree</td>\n",
       "      <td>Fully agree</td>\n",
       "      <td>Agree</td>\n",
       "      <td>Fully agree</td>\n",
       "      <td>Fully agree</td>\n",
       "      <td>Fully agree</td>\n",
       "      <td>Fully agree</td>\n",
       "      <td>Agree</td>\n",
       "      <td>...</td>\n",
       "      <td>Very much</td>\n",
       "      <td>somewhat</td>\n",
       "      <td>somewhat</td>\n",
       "      <td>80.0</td>\n",
       "      <td>Male</td>\n",
       "      <td>37.0</td>\n",
       "      <td>Africa</td>\n",
       "      <td>7.0</td>\n",
       "      <td>Agree</td>\n",
       "      <td>10 &lt; 20</td>\n",
       "    </tr>\n",
       "    <tr>\n",
       "      <th>3</th>\n",
       "      <td>4.0</td>\n",
       "      <td>Rotterdam</td>\n",
       "      <td>Fully Disagree</td>\n",
       "      <td>Neither disagree nor agree</td>\n",
       "      <td>Disagree</td>\n",
       "      <td>Neither disagree nor agree</td>\n",
       "      <td>Neither disagree nor agree</td>\n",
       "      <td>Fully Disagree</td>\n",
       "      <td>Fully Disagree</td>\n",
       "      <td>Neither disagree nor agree</td>\n",
       "      <td>...</td>\n",
       "      <td>NaN</td>\n",
       "      <td>neutral</td>\n",
       "      <td>neutral</td>\n",
       "      <td>15.0</td>\n",
       "      <td>Female</td>\n",
       "      <td>24.0</td>\n",
       "      <td>The Netherlands</td>\n",
       "      <td>6.0</td>\n",
       "      <td>Agree</td>\n",
       "      <td>10 &lt; 20</td>\n",
       "    </tr>\n",
       "    <tr>\n",
       "      <th>4</th>\n",
       "      <td>5.0</td>\n",
       "      <td>Haarlem</td>\n",
       "      <td>Disagree</td>\n",
       "      <td>Agree</td>\n",
       "      <td>Fully Disagree</td>\n",
       "      <td>Neither disagree nor agree</td>\n",
       "      <td>Fully agree</td>\n",
       "      <td>Fully agree</td>\n",
       "      <td>Neither disagree nor agree</td>\n",
       "      <td>Fully agree</td>\n",
       "      <td>...</td>\n",
       "      <td>Not at all</td>\n",
       "      <td>somewhat</td>\n",
       "      <td>Very much</td>\n",
       "      <td>40.0</td>\n",
       "      <td>Male</td>\n",
       "      <td>19.0</td>\n",
       "      <td>The Netherlands</td>\n",
       "      <td>7.0</td>\n",
       "      <td>Fully agree</td>\n",
       "      <td>10 &lt; 20</td>\n",
       "    </tr>\n",
       "  </tbody>\n",
       "</table>\n",
       "<p>5 rows × 50 columns</p>\n",
       "</div>"
      ],
      "text/plain": [
       "   RespNr   Location   OAA_ObjCourse                OAA_ObjClass  \\\n",
       "0     1.0  Rotterdam  Fully Disagree              Fully Disagree   \n",
       "1     2.0    Haarlem        Disagree                    Disagree   \n",
       "2     3.0     Diemen     Fully agree                 Fully agree   \n",
       "3     4.0  Rotterdam  Fully Disagree  Neither disagree nor agree   \n",
       "4     5.0    Haarlem        Disagree                       Agree   \n",
       "\n",
       "   OAA_CourseExec               OAA_RelActObj               OAA_RelActExa  \\\n",
       "0  Fully Disagree                    Disagree              Fully Disagree   \n",
       "1             NaN              Fully Disagree  Neither disagree nor agree   \n",
       "2           Agree                 Fully agree                 Fully agree   \n",
       "3        Disagree  Neither disagree nor agree  Neither disagree nor agree   \n",
       "4  Fully Disagree  Neither disagree nor agree                 Fully agree   \n",
       "\n",
       "    OAA_RelObjExa             OAA_LearProcAct            OAA_LearProcPrep  \\\n",
       "0  Fully Disagree              Fully Disagree              Fully Disagree   \n",
       "1           Agree                    Disagree  Neither disagree nor agree   \n",
       "2     Fully agree                 Fully agree                       Agree   \n",
       "3  Fully Disagree              Fully Disagree  Neither disagree nor agree   \n",
       "4     Fully agree  Neither disagree nor agree                 Fully agree   \n",
       "\n",
       "   ... Mix_IntDiscus  Mix_IntPrep Mix_IntExcel Over_Grade Gen_Gender Gen_Age  \\\n",
       "0  ...    Not at all  not so much  not so much       20.0     Female    22.0   \n",
       "1  ...   not so much     somewhat     somewhat       50.0       Male     NaN   \n",
       "2  ...     Very much     somewhat     somewhat       80.0       Male    37.0   \n",
       "3  ...           NaN      neutral      neutral       15.0     Female    24.0   \n",
       "4  ...    Not at all     somewhat    Very much       40.0       Male    19.0   \n",
       "\n",
       "     Gen_SecSchool Gen_Classes Gen_NumberSubj Gen_Time  \n",
       "0              NaN         NaN    Fully agree  20 < 30  \n",
       "1  The Netherlands         6.0       Disagree  10 < 20  \n",
       "2           Africa         7.0          Agree  10 < 20  \n",
       "3  The Netherlands         6.0          Agree  10 < 20  \n",
       "4  The Netherlands         7.0    Fully agree  10 < 20  \n",
       "\n",
       "[5 rows x 50 columns]"
      ]
     },
     "execution_count": 2,
     "metadata": {},
     "output_type": "execute_result"
    }
   ],
   "source": [
    "df = pd.read_csv('StudentStatistics.csv',sep=\";\")\n",
    "df.head()"
   ]
  },
  {
   "cell_type": "markdown",
   "id": "e6997d36",
   "metadata": {},
   "source": [
    "### The example will use as a nominal field the 'Location', and as an ordinal field the 'Teach_Motivate' (if the teacher was able to motivate the student)."
   ]
  },
  {
   "cell_type": "code",
   "execution_count": 3,
   "id": "b19f648e",
   "metadata": {},
   "outputs": [
    {
     "data": {
      "text/plain": [
       "array(['Rotterdam', 'Haarlem', 'Diemen'], dtype=object)"
      ]
     },
     "execution_count": 3,
     "metadata": {},
     "output_type": "execute_result"
    }
   ],
   "source": [
    "df[\"Location\"].unique()"
   ]
  },
  {
   "cell_type": "code",
   "execution_count": 4,
   "id": "dad14abb",
   "metadata": {},
   "outputs": [
    {
     "data": {
      "text/plain": [
       "array(['Fully Disagree', 'Disagree', 'Fully agree',\n",
       "       'Neither disagree nor agree', nan, 'Agree'], dtype=object)"
      ]
     },
     "execution_count": 4,
     "metadata": {},
     "output_type": "execute_result"
    }
   ],
   "source": [
    "df[\"Teach_Motivate\"].unique()"
   ]
  },
  {
   "cell_type": "code",
   "execution_count": 5,
   "id": "c7fab82e",
   "metadata": {},
   "outputs": [],
   "source": [
    "nom=df[\"Location\"]"
   ]
  },
  {
   "cell_type": "code",
   "execution_count": 6,
   "id": "aae0cc9d",
   "metadata": {},
   "outputs": [],
   "source": [
    "ord=df[\"Teach_Motivate\"]"
   ]
  },
  {
   "cell_type": "code",
   "execution_count": 7,
   "id": "274a0cd2",
   "metadata": {},
   "outputs": [],
   "source": [
    "crosstab_table = pd.crosstab(ord,nom)"
   ]
  },
  {
   "cell_type": "code",
   "execution_count": 8,
   "id": "6c594da5",
   "metadata": {},
   "outputs": [
    {
     "data": {
      "text/html": [
       "<div>\n",
       "<style scoped>\n",
       "    .dataframe tbody tr th:only-of-type {\n",
       "        vertical-align: middle;\n",
       "    }\n",
       "\n",
       "    .dataframe tbody tr th {\n",
       "        vertical-align: top;\n",
       "    }\n",
       "\n",
       "    .dataframe thead th {\n",
       "        text-align: right;\n",
       "    }\n",
       "</style>\n",
       "<table border=\"1\" class=\"dataframe\">\n",
       "  <thead>\n",
       "    <tr style=\"text-align: right;\">\n",
       "      <th>Location</th>\n",
       "      <th>Diemen</th>\n",
       "      <th>Haarlem</th>\n",
       "      <th>Rotterdam</th>\n",
       "    </tr>\n",
       "    <tr>\n",
       "      <th>Teach_Motivate</th>\n",
       "      <th></th>\n",
       "      <th></th>\n",
       "      <th></th>\n",
       "    </tr>\n",
       "  </thead>\n",
       "  <tbody>\n",
       "    <tr>\n",
       "      <th>Agree</th>\n",
       "      <td>5</td>\n",
       "      <td>1</td>\n",
       "      <td>1</td>\n",
       "    </tr>\n",
       "    <tr>\n",
       "      <th>Disagree</th>\n",
       "      <td>0</td>\n",
       "      <td>6</td>\n",
       "      <td>3</td>\n",
       "    </tr>\n",
       "    <tr>\n",
       "      <th>Fully Disagree</th>\n",
       "      <td>1</td>\n",
       "      <td>10</td>\n",
       "      <td>9</td>\n",
       "    </tr>\n",
       "    <tr>\n",
       "      <th>Fully agree</th>\n",
       "      <td>5</td>\n",
       "      <td>1</td>\n",
       "      <td>0</td>\n",
       "    </tr>\n",
       "    <tr>\n",
       "      <th>Neither disagree nor agree</th>\n",
       "      <td>6</td>\n",
       "      <td>3</td>\n",
       "      <td>3</td>\n",
       "    </tr>\n",
       "  </tbody>\n",
       "</table>\n",
       "</div>"
      ],
      "text/plain": [
       "Location                    Diemen  Haarlem  Rotterdam\n",
       "Teach_Motivate                                        \n",
       "Agree                            5        1          1\n",
       "Disagree                         0        6          3\n",
       "Fully Disagree                   1       10          9\n",
       "Fully agree                      5        1          0\n",
       "Neither disagree nor agree       6        3          3"
      ]
     },
     "execution_count": 8,
     "metadata": {},
     "output_type": "execute_result"
    }
   ],
   "source": [
    "crosstab_table"
   ]
  },
  {
   "cell_type": "code",
   "execution_count": 9,
   "id": "df8b8c9e",
   "metadata": {},
   "outputs": [],
   "source": [
    "ord_dict = {'Fully Disagree': 1, 'Disagree': 2, 'Neither disagree nor agree': 3, 'Agree': 4, 'Fully agree': 5}"
   ]
  },
  {
   "cell_type": "code",
   "execution_count": 10,
   "id": "e53f0e09",
   "metadata": {},
   "outputs": [],
   "source": [
    "df[\"Teach_Motivate_ohe\"]=df[\"Teach_Motivate\"].replace(ord_dict)"
   ]
  },
  {
   "cell_type": "code",
   "execution_count": 11,
   "id": "37cd2c2e",
   "metadata": {},
   "outputs": [
    {
     "data": {
      "text/plain": [
       "1.0    20\n",
       "3.0    12\n",
       "2.0     9\n",
       "4.0     7\n",
       "5.0     6\n",
       "Name: Teach_Motivate_ohe, dtype: int64"
      ]
     },
     "execution_count": 11,
     "metadata": {},
     "output_type": "execute_result"
    }
   ],
   "source": [
    "df[\"Teach_Motivate_ohe\"].value_counts()"
   ]
  },
  {
   "cell_type": "code",
   "execution_count": 12,
   "id": "2cba82ac",
   "metadata": {},
   "outputs": [],
   "source": [
    "from pingouin import kruskal"
   ]
  },
  {
   "cell_type": "code",
   "execution_count": 14,
   "id": "d5411fd0",
   "metadata": {},
   "outputs": [
    {
     "data": {
      "text/html": [
       "<div>\n",
       "<style scoped>\n",
       "    .dataframe tbody tr th:only-of-type {\n",
       "        vertical-align: middle;\n",
       "    }\n",
       "\n",
       "    .dataframe tbody tr th {\n",
       "        vertical-align: top;\n",
       "    }\n",
       "\n",
       "    .dataframe thead th {\n",
       "        text-align: right;\n",
       "    }\n",
       "</style>\n",
       "<table border=\"1\" class=\"dataframe\">\n",
       "  <thead>\n",
       "    <tr style=\"text-align: right;\">\n",
       "      <th></th>\n",
       "      <th>Source</th>\n",
       "      <th>ddof1</th>\n",
       "      <th>H</th>\n",
       "      <th>p-unc</th>\n",
       "    </tr>\n",
       "  </thead>\n",
       "  <tbody>\n",
       "    <tr>\n",
       "      <th>Kruskal</th>\n",
       "      <td>Location</td>\n",
       "      <td>2</td>\n",
       "      <td>21.328066</td>\n",
       "      <td>0.000023</td>\n",
       "    </tr>\n",
       "  </tbody>\n",
       "</table>\n",
       "</div>"
      ],
      "text/plain": [
       "           Source  ddof1          H     p-unc\n",
       "Kruskal  Location      2  21.328066  0.000023"
      ]
     },
     "execution_count": 14,
     "metadata": {},
     "output_type": "execute_result"
    }
   ],
   "source": [
    "kruskal(data=df, dv='Teach_Motivate_ohe', between='Location') #dv=dependent variable"
   ]
  },
  {
   "cell_type": "markdown",
   "id": "edcc6a43",
   "metadata": {},
   "source": [
    "### Since this chance is so low (below 0.050), we can  reject the Ho and conclude that most likely in the population there will be a difference between the three locations."
   ]
  },
  {
   "cell_type": "code",
   "execution_count": 26,
   "id": "3d038795",
   "metadata": {},
   "outputs": [
    {
     "data": {
      "text/plain": [
       "0     1.0\n",
       "3     1.0\n",
       "6     3.0\n",
       "9     1.0\n",
       "12    1.0\n",
       "15    3.0\n",
       "18    4.0\n",
       "21    2.0\n",
       "24    2.0\n",
       "27    1.0\n",
       "30    1.0\n",
       "33    1.0\n",
       "36    2.0\n",
       "39    1.0\n",
       "42    1.0\n",
       "45    3.0\n",
       "Name: Teach_Motivate_ohe, dtype: float64"
      ]
     },
     "execution_count": 26,
     "metadata": {},
     "output_type": "execute_result"
    }
   ],
   "source": [
    "x=df[df[\"Location\"]==\"Rotterdam\"][\"Teach_Motivate_ohe\"].dropna()\n",
    "x"
   ]
  },
  {
   "cell_type": "code",
   "execution_count": 27,
   "id": "6cec71fd",
   "metadata": {},
   "outputs": [
    {
     "data": {
      "text/plain": [
       "1     2.0\n",
       "4     1.0\n",
       "7     1.0\n",
       "10    1.0\n",
       "13    1.0\n",
       "19    2.0\n",
       "22    1.0\n",
       "25    2.0\n",
       "28    1.0\n",
       "31    2.0\n",
       "34    5.0\n",
       "37    3.0\n",
       "40    2.0\n",
       "43    1.0\n",
       "46    3.0\n",
       "48    4.0\n",
       "50    1.0\n",
       "51    1.0\n",
       "52    2.0\n",
       "53    3.0\n",
       "54    1.0\n",
       "Name: Teach_Motivate_ohe, dtype: float64"
      ]
     },
     "execution_count": 27,
     "metadata": {},
     "output_type": "execute_result"
    }
   ],
   "source": [
    "y=df[df[\"Location\"]==\"Haarlem\"][\"Teach_Motivate_ohe\"].dropna()\n",
    "y"
   ]
  },
  {
   "cell_type": "code",
   "execution_count": 28,
   "id": "1797ba5f",
   "metadata": {},
   "outputs": [
    {
     "data": {
      "text/plain": [
       "2     5.0\n",
       "5     5.0\n",
       "8     5.0\n",
       "11    5.0\n",
       "14    3.0\n",
       "17    3.0\n",
       "20    4.0\n",
       "23    3.0\n",
       "26    4.0\n",
       "29    3.0\n",
       "32    4.0\n",
       "35    4.0\n",
       "38    4.0\n",
       "41    5.0\n",
       "44    3.0\n",
       "47    1.0\n",
       "49    3.0\n",
       "Name: Teach_Motivate_ohe, dtype: float64"
      ]
     },
     "execution_count": 28,
     "metadata": {},
     "output_type": "execute_result"
    }
   ],
   "source": [
    "z=df[df[\"Location\"]==\"Diemen\"][\"Teach_Motivate_ohe\"].dropna()\n",
    "z"
   ]
  },
  {
   "cell_type": "code",
   "execution_count": 21,
   "id": "3a391c57",
   "metadata": {},
   "outputs": [],
   "source": [
    "from scipy.stats import kruskal"
   ]
  },
  {
   "cell_type": "code",
   "execution_count": 29,
   "id": "09c43812",
   "metadata": {},
   "outputs": [
    {
     "data": {
      "text/plain": [
       "KruskalResult(statistic=21.328066442489817, pvalue=2.3370565284336716e-05)"
      ]
     },
     "execution_count": 29,
     "metadata": {},
     "output_type": "execute_result"
    }
   ],
   "source": [
    "kruskal(z, y, x)"
   ]
  },
  {
   "cell_type": "code",
   "execution_count": 30,
   "id": "a1d98733",
   "metadata": {},
   "outputs": [
    {
     "data": {
      "text/plain": [
       "KruskalResult(statistic=21.328066442489817, pvalue=2.3370565284336716e-05)"
      ]
     },
     "execution_count": 30,
     "metadata": {},
     "output_type": "execute_result"
    }
   ],
   "source": [
    "kruskal(x, y, z)"
   ]
  },
  {
   "cell_type": "markdown",
   "id": "f8885b09",
   "metadata": {},
   "source": [
    "### Degrees of freedom"
   ]
  },
  {
   "cell_type": "code",
   "execution_count": 31,
   "id": "f1ea538c",
   "metadata": {},
   "outputs": [
    {
     "data": {
      "text/plain": [
       "2"
      ]
     },
     "execution_count": 31,
     "metadata": {},
     "output_type": "execute_result"
    }
   ],
   "source": [
    "dof = len(nom.unique()) - 1\n",
    "dof"
   ]
  },
  {
   "cell_type": "code",
   "execution_count": null,
   "id": "cf9a54bb",
   "metadata": {},
   "outputs": [],
   "source": []
  }
 ],
 "metadata": {
  "kernelspec": {
   "display_name": "Python 3",
   "language": "python",
   "name": "python3"
  },
  "language_info": {
   "codemirror_mode": {
    "name": "ipython",
    "version": 3
   },
   "file_extension": ".py",
   "mimetype": "text/x-python",
   "name": "python",
   "nbconvert_exporter": "python",
   "pygments_lexer": "ipython3",
   "version": "3.8.8"
  }
 },
 "nbformat": 4,
 "nbformat_minor": 5
}
